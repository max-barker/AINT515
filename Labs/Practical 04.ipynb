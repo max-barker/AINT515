{
  "nbformat": 4,
  "nbformat_minor": 0,
  "metadata": {
    "colab": {
      "provenance": [],
      "include_colab_link": true
    },
    "kernelspec": {
      "name": "python3",
      "display_name": "Python 3"
    },
    "language_info": {
      "name": "python"
    }
  },
  "cells": [
    {
      "cell_type": "markdown",
      "metadata": {
        "id": "view-in-github",
        "colab_type": "text"
      },
      "source": [
        "<a href=\"https://colab.research.google.com/github/max-barker/AINT515/blob/main/Labs/Practical%2004.ipynb\" target=\"_parent\"><img src=\"https://colab.research.google.com/assets/colab-badge.svg\" alt=\"Open In Colab\"/></a>"
      ]
    },
    {
      "cell_type": "markdown",
      "source": [
        "# **Practical 04: Hough Circles**\n",
        "\n",
        "---\n",
        "**Introduction**\n",
        "\n",
        "The Hough Circle Transform works in a roughly analogous way to the Hough Line Transform explained in the previous tutorial. In the line detection case, a line was defined by two parameters (r,θ). In the circle case, we need three parameters to define a circle: (center X ,center Y, radius)\n",
        "\n",
        "For sake of efficiency, OpenCV implements a detection method slightly trickier than the standard Hough Transform: The Hough gradient method, which is made up of two main stages. The first stage involves edge detection and finding the possible circle centers and the second stage finds the best radius for each candidate center.\n",
        "\n",
        "Run the code below to setup the runtime environment:"
      ],
      "metadata": {
        "id": "LnPYXPcjUcG_"
      }
    },
    {
      "cell_type": "code",
      "execution_count": null,
      "metadata": {
        "id": "lE6G-k1VH_e8"
      },
      "outputs": [],
      "source": [
        "import cv2 as cv   #opencv itself (under the name cv)\n",
        "import numpy as np #numpy math library (under the name np)\n",
        "import math\n",
        "\n",
        "#image displaying libraries\n",
        "import pylab       \n",
        "from matplotlib import pyplot as plt \n",
        "\n",
        "#make generated images appear inline below the code\n",
        "%matplotlib inline \n",
        "\n",
        "#set the displayed image size\n",
        "pylab.rcParams['figure.figsize'] = (10.0, 8.0) \n",
        "\n",
        "# Download example images\n",
        "!wget https://raw.githubusercontent.com/Jamesrogers221194/AINT-Files/328c64bcaedb3e365f344cef69dc0be28701d279/AINT515/Practical04/Hough-Circles-1.jpg\n",
        "!wget https://raw.githubusercontent.com/Jamesrogers221194/AINT-Files/9652170d69207e4f9c9e67e1c06842c8a59178fc/AINT515/Practical04/Hough-Circles-2.jpg\n",
        "!wget https://raw.githubusercontent.com/Jamesrogers221194/AINT-Files/9652170d69207e4f9c9e67e1c06842c8a59178fc/AINT515/Practical04/Hough-Circles-3.jpg"
      ]
    },
    {
      "cell_type": "markdown",
      "source": [
        "Load one of the example images:"
      ],
      "metadata": {
        "id": "PS-oXKJSknqg"
      }
    },
    {
      "cell_type": "code",
      "source": [
        "input_image=cv.imread('Hough-Circles-3.jpg')                   #import the image as a Mat\n",
        "input_image_RGB = cv.cvtColor(input_image, cv.COLOR_BGR2RGB)  #convert the image to an RGB format so it can be displayed correctly\n",
        "plt.imshow(input_image_RGB)                                   #plot the image"
      ],
      "metadata": {
        "id": "j34wMGs0JA7W"
      },
      "execution_count": null,
      "outputs": []
    },
    {
      "cell_type": "markdown",
      "source": [
        "The hough circles function has the canny step built in, however it is still useful to run canny separately when debugging  since its useful to check that the canny output is correct."
      ],
      "metadata": {
        "id": "qu1lEADfkrcY"
      }
    },
    {
      "cell_type": "code",
      "source": [
        "#Sets the sensitivity of the line detection \n",
        "cannyThreshold=100  \n",
        "\n",
        "#Apply edge detection\n",
        "input_image_canny=cv.Canny(input_image_RGB,cannyThreshold,cannyThreshold*2)\n",
        "\n",
        "#Display the result\n",
        "plt.imshow(input_image_canny) "
      ],
      "metadata": {
        "id": "OJpJb8oGM8AT"
      },
      "execution_count": null,
      "outputs": []
    },
    {
      "cell_type": "markdown",
      "source": [
        "HoughCircles() is used in a very similar way to HoughLines(), with the main differences being that the input image must be greyscale, and more parameters are needed:\n",
        "\n",
        "\n",
        "*   **Detection Type:** There are different methods the function can use, the default is HOUGH_GRADIENT.\n",
        "*   **Accumulator Resolution:** This value scales the hough space in relation to the image size. Higher values improve performance at the cost of output quality.\n",
        "*   **Minimum Center Distance:** Minimum distance between centers of detected circles.\n",
        "*   **Threshold:** The sensitivity of the detection. Lower values detect more circles.\n",
        "*   **Minimum Radius:** The minimum size a circle detection can have\n",
        "*   **Maximum Radius:** The maximum size a circle detection can have\n",
        "\n",
        "\n"
      ],
      "metadata": {
        "id": "ifOcbvFllkCw"
      }
    },
    {
      "cell_type": "code",
      "source": [
        "#create a black and white version of the input image\n",
        "input_image_Grey = cv.cvtColor(input_image_RGB, cv.COLOR_RGB2GRAY)\n",
        "\n",
        "#run the circle detection\n",
        "detectionType = cv.HOUGH_GRADIENT \n",
        "accumulatorResolution = 1         \n",
        "minCenterDist = 20                \n",
        "threshold = 100                   \n",
        "minRadius = 10                    \n",
        "maxRadius = 200                   \n",
        "\n",
        "circles = cv.HoughCircles(input_image_Grey,detectionType,accumulatorResolution,minCenterDist,param1=cannyThreshold*2,param2=threshold,minRadius=minRadius,maxRadius=maxRadius)\n",
        "\n",
        "#copy the orginal image that we can draw on\n",
        "input_image_output = np.copy(input_image_RGB)\n",
        "\n",
        "#draw circles\n",
        "if circles is not None:\n",
        "  circles = np.uint16(np.around(circles))\n",
        "  for i in circles[0,:]:\n",
        "      # draw the outer circle\n",
        "      cv.circle(input_image_output,(i[0],i[1]),i[2],(255,0,0),3)\n",
        "      # draw the center of the circle\n",
        "      cv.circle(input_image_output,(i[0],i[1]),3,(255,0,0),3)\n",
        "\n",
        "plt.imshow(input_image_output) \n"
      ],
      "metadata": {
        "id": "VCIyq0MbLKlN"
      },
      "execution_count": null,
      "outputs": []
    },
    {
      "cell_type": "markdown",
      "source": [
        "Try out the circle detection for the other images, how do the input parameters change the output? What type of circle pattern can’t be detected and why?"
      ],
      "metadata": {
        "id": "i1uVo9iXoHl_"
      }
    }
  ]
}