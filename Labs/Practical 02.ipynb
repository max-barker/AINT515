{
  "nbformat": 4,
  "nbformat_minor": 0,
  "metadata": {
    "colab": {
      "provenance": [],
      "include_colab_link": true
    },
    "kernelspec": {
      "name": "python3",
      "display_name": "Python 3"
    },
    "language_info": {
      "name": "python"
    }
  },
  "cells": [
    {
      "cell_type": "markdown",
      "metadata": {
        "id": "view-in-github",
        "colab_type": "text"
      },
      "source": [
        "<a href=\"https://colab.research.google.com/github/max-barker/AINT515/blob/main/Labs/Practical%2002.ipynb\" target=\"_parent\"><img src=\"https://colab.research.google.com/assets/colab-badge.svg\" alt=\"Open In Colab\"/></a>"
      ]
    },
    {
      "cell_type": "markdown",
      "source": [
        "# **Practical 02: Colour Detection**\n",
        "\n",
        "---\n",
        "\n",
        "**Introduction**\n",
        "\n",
        "An online car dealership has a database of cars for sale and would like to give customers the option to search based on the cars colour. To do this, all cars in the database will have to be tagged with a colour. The database is too big to do this manually, so can you create a computer vision solution to identify\n",
        "the colour of each car?\n",
        "\n",
        "Same as before, The code below imports all the needed dependencies and images for this task.\n"
      ],
      "metadata": {
        "id": "ZivzBTTV7vtG"
      }
    },
    {
      "cell_type": "code",
      "execution_count": null,
      "metadata": {
        "id": "LSSfLeFb3qoh"
      },
      "outputs": [],
      "source": [
        "import cv2 as cv   #opencv itself (under the name cv)\n",
        "import numpy as np #numpy math library (under the name np)\n",
        "\n",
        "#image displaying libraries\n",
        "import pylab       \n",
        "from matplotlib import pyplot as plt \n",
        "\n",
        "#make generated images appear inline below the code\n",
        "%matplotlib inline \n",
        "\n",
        "#set the displayed image size\n",
        "pylab.rcParams['figure.figsize'] = (10.0, 8.0) \n",
        "\n",
        "# Download example images\n",
        "!wget https://raw.githubusercontent.com/Jamesrogers221194/AINT-Files/7a1aa267a8b05b133a3b26f95786f12adab45195/AINT515/Practical02/0.png\n",
        "!wget https://raw.githubusercontent.com/Jamesrogers221194/AINT-Files/7a1aa267a8b05b133a3b26f95786f12adab45195/AINT515/Practical02/1.png\n",
        "!wget https://raw.githubusercontent.com/Jamesrogers221194/AINT-Files/7a1aa267a8b05b133a3b26f95786f12adab45195/AINT515/Practical02/2.png\n",
        "!wget https://raw.githubusercontent.com/Jamesrogers221194/AINT-Files/7a1aa267a8b05b133a3b26f95786f12adab45195/AINT515/Practical02/3.png\n",
        "!wget https://raw.githubusercontent.com/Jamesrogers221194/AINT-Files/7a1aa267a8b05b133a3b26f95786f12adab45195/AINT515/Practical02/4.png\n",
        "!wget https://raw.githubusercontent.com/Jamesrogers221194/AINT-Files/7a1aa267a8b05b133a3b26f95786f12adab45195/AINT515/Practical02/5.png\n",
        "!wget https://raw.githubusercontent.com/Jamesrogers221194/AINT-Files/7a1aa267a8b05b133a3b26f95786f12adab45195/AINT515/Practical02/6.png\n",
        "!wget https://raw.githubusercontent.com/Jamesrogers221194/AINT-Files/7a1aa267a8b05b133a3b26f95786f12adab45195/AINT515/Practical02/7.png\n",
        "!wget https://raw.githubusercontent.com/Jamesrogers221194/AINT-Files/7a1aa267a8b05b133a3b26f95786f12adab45195/AINT515/Practical02/8.png\n",
        "!wget https://raw.githubusercontent.com/Jamesrogers221194/AINT-Files/7a1aa267a8b05b133a3b26f95786f12adab45195/AINT515/Practical02/9.png\n",
        "!wget https://raw.githubusercontent.com/Jamesrogers221194/AINT-Files/7a1aa267a8b05b133a3b26f95786f12adab45195/AINT515/Practical02/10.png\n",
        "!wget https://raw.githubusercontent.com/Jamesrogers221194/AINT-Files/7a1aa267a8b05b133a3b26f95786f12adab45195/AINT515/Practical02/11.png\n",
        "!wget https://raw.githubusercontent.com/Jamesrogers221194/AINT-Files/7a1aa267a8b05b133a3b26f95786f12adab45195/AINT515/Practical02/12.png\n",
        "!wget https://raw.githubusercontent.com/Jamesrogers221194/AINT-Files/7a1aa267a8b05b133a3b26f95786f12adab45195/AINT515/Practical02/13.png\n",
        "!wget https://raw.githubusercontent.com/Jamesrogers221194/AINT-Files/7a1aa267a8b05b133a3b26f95786f12adab45195/AINT515/Practical02/14.png\n",
        "!wget https://raw.githubusercontent.com/Jamesrogers221194/AINT-Files/7a1aa267a8b05b133a3b26f95786f12adab45195/AINT515/Practical02/15.png\n",
        "!wget https://raw.githubusercontent.com/Jamesrogers221194/AINT-Files/7a1aa267a8b05b133a3b26f95786f12adab45195/AINT515/Practical02/16.png\n",
        "!wget https://raw.githubusercontent.com/Jamesrogers221194/AINT-Files/7a1aa267a8b05b133a3b26f95786f12adab45195/AINT515/Practical02/17.png\n",
        "!wget https://raw.githubusercontent.com/Jamesrogers221194/AINT-Files/7a1aa267a8b05b133a3b26f95786f12adab45195/AINT515/Practical02/18.png\n",
        "!wget https://raw.githubusercontent.com/Jamesrogers221194/AINT-Files/7a1aa267a8b05b133a3b26f95786f12adab45195/AINT515/Practical02/19.png\n",
        "!wget https://raw.githubusercontent.com/Jamesrogers221194/AINT-Files/7a1aa267a8b05b133a3b26f95786f12adab45195/AINT515/Practical02/20.png\n",
        "!wget https://raw.githubusercontent.com/Jamesrogers221194/AINT-Files/7a1aa267a8b05b133a3b26f95786f12adab45195/AINT515/Practical02/21.png\n",
        "!wget https://raw.githubusercontent.com/Jamesrogers221194/AINT-Files/7a1aa267a8b05b133a3b26f95786f12adab45195/AINT515/Practical02/22.png\n",
        "!wget https://raw.githubusercontent.com/Jamesrogers221194/AINT-Files/7a1aa267a8b05b133a3b26f95786f12adab45195/AINT515/Practical02/23.png\n",
        "!wget https://raw.githubusercontent.com/Jamesrogers221194/AINT-Files/7a1aa267a8b05b133a3b26f95786f12adab45195/AINT515/Practical02/24.png\n",
        "!wget https://raw.githubusercontent.com/Jamesrogers221194/AINT-Files/7a1aa267a8b05b133a3b26f95786f12adab45195/AINT515/Practical02/25.png\n",
        "!wget https://raw.githubusercontent.com/Jamesrogers221194/AINT-Files/7a1aa267a8b05b133a3b26f95786f12adab45195/AINT515/Practical02/26.png\n",
        "!wget https://raw.githubusercontent.com/Jamesrogers221194/AINT-Files/7a1aa267a8b05b133a3b26f95786f12adab45195/AINT515/Practical02/27.png\n",
        "!wget https://raw.githubusercontent.com/Jamesrogers221194/AINT-Files/7a1aa267a8b05b133a3b26f95786f12adab45195/AINT515/Practical02/28.png\n",
        "!wget https://raw.githubusercontent.com/Jamesrogers221194/AINT-Files/7a1aa267a8b05b133a3b26f95786f12adab45195/AINT515/Practical02/29.png"
      ]
    },
    {
      "cell_type": "markdown",
      "source": [
        "The code given below reads in one of the car images, there are 30 in total you can test. Your task is to add to this code, to automatically detect the cars colour (Most of this code can be copied from what you used in practical 01). The program can be split into the following steps:\n",
        "\n",
        "\n",
        "1.   Load in the image and convert into an RGB colour space (This is already done for you).\n",
        "2.   Make a HSV copy of the input image.\n",
        "3.   Using inRange(), make three thresholded images, using limits set for red, green, and blue.\n",
        "4.   Using \"[cv.countNonZero(image)](https://docs.opencv.org/3.4/d2/de8/group__core__array.html#gaa4b89393263bb4d604e0fe5986723914)\", count how many pixels were detected in each of the thresholded images. This will tell you how many red, green, and red pixels are in the input image\n",
        "5.   The largest of these three values will likely be the colour of the car, as the sample images have been chosen so that the car takes up the majority of the frame. Using if statements, print the name of the colour with the largest value. The \"print()\" command can be used to write text to the output."
      ],
      "metadata": {
        "id": "BmtmGpDk8vm_"
      }
    },
    {
      "cell_type": "code",
      "source": [
        "# Part 1: Load the Image\n",
        "input_image=cv.imread('0.png')                                #import the image as a Mat\n",
        "input_image_RGB = cv.cvtColor(input_image, cv.COLOR_BGR2RGB)  #convert the image to an RGB format so it can be displayed correctly\n",
        "plt.imshow(input_image_RGB)                                   #plot the image\n",
        "\n",
        "# Part 2: Convert to HSV\n",
        "\n",
        "\n",
        "# Part 3: Thresholding\n",
        "\n",
        "\n",
        "# Part 4: Counting Each Colour\n",
        "\n",
        "\n",
        "# Part 5: Print the Result\n",
        "\n"
      ],
      "metadata": {
        "id": "uZgR9u9_47cW"
      },
      "execution_count": null,
      "outputs": []
    }
  ]
}