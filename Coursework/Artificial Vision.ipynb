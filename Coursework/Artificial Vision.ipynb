{
  "nbformat": 4,
  "nbformat_minor": 0,
  "metadata": {
    "colab": {
      "provenance": [],
      "include_colab_link": true
    },
    "kernelspec": {
      "name": "python3",
      "display_name": "Python 3"
    },
    "language_info": {
      "name": "python"
    }
  },
  "cells": [
    {
      "cell_type": "markdown",
      "metadata": {
        "id": "view-in-github",
        "colab_type": "text"
      },
      "source": [
        "<a href=\"https://colab.research.google.com/github/max-barker/AINT515/blob/main/Coursework/Artificial%20Vision.ipynb\" target=\"_parent\"><img src=\"https://colab.research.google.com/assets/colab-badge.svg\" alt=\"Open In Colab\"/></a>"
      ]
    },
    {
      "cell_type": "markdown",
      "source": [
        "# Coursework 1 Template\n",
        "\n",
        "---\n",
        "\n",
        "Processing and viewing video in colab can be a bit tricky to implement, so you are free to use this template as a starting point for your first coursework. The first code block sets up your environment, as well as downloading the coursework videos from github. The second code block opens one of the videos and loads each frame one by one for you to process. Any edits you make to \"frame\" will be displayed in the output video after running, so use this to debug/demonstrate your code.\n"
      ],
      "metadata": {
        "id": "RF7kA5oANK5v"
      }
    },
    {
      "cell_type": "code",
      "execution_count": null,
      "metadata": {
        "id": "YWCb7xnLpBEK"
      },
      "outputs": [],
      "source": [
        "import cv2 as cv   #opencv itself (under the name cv)\n",
        "import numpy as np #numpy math library (under the name np)\n",
        "import math\n",
        "\n",
        "#image displaying libraries\n",
        "import pylab       \n",
        "from matplotlib import pyplot as plt \n",
        "from IPython.display import HTML\n",
        "from IPython.display import clear_output \n",
        "from base64 import b64encode\n",
        "\n",
        "#make generated images appear inline below the code\n",
        "%matplotlib inline \n",
        "\n",
        "#set the displayed image size\n",
        "pylab.rcParams['figure.figsize'] = (10.0, 8.0) \n",
        "\n",
        "# Download example videos\n",
        "!wget https://raw.githubusercontent.com/Jamesrogers221194/AINT-Files/3f989bb044250abdc3c25ccc5d4c10744e649369/AINT515/Coursework01/Video1%20for%20Vision%20CW.mp4\n",
        "!wget https://raw.githubusercontent.com/Jamesrogers221194/AINT-Files/3f989bb044250abdc3c25ccc5d4c10744e649369/AINT515/Coursework01/Video2%20for%20Vision%20CW.mp4"
      ]
    },
    {
      "cell_type": "code",
      "source": [
        "#Load input video\n",
        "videoInput = cv.VideoCapture('Video1 for Vision CW.mp4')\n",
        "#videoInput = cv.VideoCapture('Video2 for Vision CW.mp4') #uncomment to load the second video\n",
        "if (videoInput.isOpened() == False): \n",
        "  print(\"Error opening video stream or file\")\n",
        "\n",
        "#Setup output video writer\n",
        "videoOutput = cv.VideoWriter('output.avi',cv.VideoWriter_fourcc(*'MJPG'), 30, (int(videoInput.get(cv.CAP_PROP_FRAME_WIDTH)),int(videoInput.get(cv.CAP_PROP_FRAME_HEIGHT))))\n",
        "\n",
        "#==================================Main Program Loop================================\n",
        "while(1):\n",
        "  #grab a frame, break the loop if there are no frames left\n",
        "  ret, frame = videoInput.read()\n",
        "  if(ret == False):\n",
        "    break;\n",
        "\n",
        "  #Your code goes here. The image of the current frame is stored in \"frame\".\n",
        "  #Edits to this frame will be preserved in the output video for you to see.\n",
        "\n",
        "\n",
        " \n",
        "\n",
        "\n",
        "\n",
        "\n",
        "\n",
        "\n",
        "\n",
        "\n",
        "\n",
        "\n",
        "\n",
        "\n",
        "\n",
        "\n",
        "\n",
        "\n",
        "\n",
        "  #save frame to output video (must me BGR format)\n",
        "  videoOutput.write(frame)\n",
        "\n",
        "\n",
        "#Display output video\n",
        "videoOutput.release()\n",
        "print(\"Loading Video...\")\n",
        "!ffmpeg -i output.avi output.mp4 -hide_banner -loglevel error -y\n",
        "clear_output()\n",
        "HTML(f\"\"\"<video width=1300 controls autoplay loop><source src=\"{\"data:video/mp4;base64,\" + b64encode(open('output.mp4', \"rb\").read()).decode()}\" type=\"video/mp4\"></video>\"\"\")"
      ],
      "metadata": {
        "id": "RaaD923nznuV"
      },
      "execution_count": null,
      "outputs": []
    }
  ]
}